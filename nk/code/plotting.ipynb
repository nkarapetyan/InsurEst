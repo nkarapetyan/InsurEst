{
 "cells": [
  {
   "cell_type": "code",
   "execution_count": 1,
   "metadata": {
    "collapsed": true
   },
   "outputs": [],
   "source": [
    "import csv\n",
    "from math import log\n",
    "import numpy as np\n",
    "from array import array\n",
    "import pandas as pd\n",
    "import math\n",
    "import matplotlib.pyplot as plt\n",
    "\n",
    "policy_ID = 'PolicyNo' # name of the first column for identifying the policies\n"
   ]
  },
  {
   "cell_type": "markdown",
   "metadata": {},
   "source": [
    "### scatter_plot function takes dataframe 'data' and x, y axis attribute names and plots data[y] on data[x]"
   ]
  },
  {
   "cell_type": "code",
   "execution_count": 2,
   "metadata": {
    "collapsed": false
   },
   "outputs": [],
   "source": [
    "#def scatter_plot(data, x, y, m='o', col=None):\n",
    "def scatter_plot(data, x, y):\n",
    "    f = plt.figure()\n",
    "    ax = f.add_subplot(1, 1, 1)\n",
    "    ax.scatter(data[x], data[y])\n",
    "    plt.title(x + ' and ' + y + ' distribution')\n",
    "    plt.xlabel(x)\n",
    "    plt.ylabel(y)\n",
    "    #plt.show()\n",
    "    return f\n",
    "#%matplotlib inline"
   ]
  },
  {
   "cell_type": "markdown",
   "metadata": {},
   "source": [
    "### Usage example"
   ]
  },
  {
   "cell_type": "code",
   "execution_count": 3,
   "metadata": {
    "collapsed": false
   },
   "outputs": [],
   "source": [
    "#fig = scatter_plot(sales, x = \"Age\", y = \"Loss_Amount\") \n",
    "#fig.show()"
   ]
  },
  {
   "cell_type": "markdown",
   "metadata": {},
   "source": [
    "### box_whisher plot (/*this is again a good way to understand the data distribution, if you want to use*/)"
   ]
  },
  {
   "cell_type": "code",
   "execution_count": 3,
   "metadata": {
    "collapsed": true
   },
   "outputs": [],
   "source": [
    "def boxWhisker_plot(data, x, y):\n",
    "    ax = data.boxplot(y, x)\n",
    "    plt.title(x + ' and ' + y + ' distribution')\n",
    "    plt.xlabel(x)\n",
    "    plt.ylabel(y)\n",
    "    #plt.show()\n",
    "    return plt"
   ]
  },
  {
   "cell_type": "code",
   "execution_count": 8,
   "metadata": {
    "collapsed": false
   },
   "outputs": [],
   "source": [
    "#fig = boxWhisker_plot(sales, x =\"Age\", y = \"Loss_Amount\")"
   ]
  },
  {
   "cell_type": "code",
   "execution_count": 11,
   "metadata": {
    "collapsed": false
   },
   "outputs": [
    {
     "name": "stdout",
     "output_type": "stream",
     "text": [
      "(424431, 67)\n",
      "set(['Vehicle_Annual_Miles', 'Vehicle_Make_Description'])\n"
     ]
    }
   ],
   "source": [
    "outFile = 'cleaned_training_data_2016_ver_02.csv'\n",
    "fileName = 'cleaned_and_scaled_training_data_2016.csv'\n",
    "data_dir = '../../data/'\n",
    "df = pd.read_csv(data_dir + fileName)\n",
    "df1 = pd.read_csv(data_dir + outFile)\n",
    "print df.shape\n",
    "el = (set(df1.columns.values) - set(df.columns.values))\n",
    "print el"
   ]
  },
  {
   "cell_type": "code",
   "execution_count": 13,
   "metadata": {
    "collapsed": false
   },
   "outputs": [
    {
     "name": "stdout",
     "output_type": "stream",
     "text": [
      "00_PolicyNo.png\n",
      "01_Policy_Company.png\n",
      "02_Policy_Installment_Term.png\n",
      "03_Policy_Billing_Code.png\n",
      "04_Policy_Method_Of_Payment.png\n",
      "05_Policy_Reinstatement_Fee_Indicator.png\n",
      "06_Policy_Zip_Code_Garaging_Location.png\n",
      "07_Vehicle_Territory.png\n",
      "08_Vehicle_Make_Year.png\n",
      "09_Vehicle_Performance.png\n",
      "10_Vehicle_New_Cost_Amount.png\n",
      "11_Vehicle_Symbol.png\n",
      "12_Vehicle_Number_Of_Drivers_Assigned.png\n",
      "13_Vehicle_Usage.png\n",
      "14_Vehicle_Miles_To_Work.png\n",
      "15_Vehicle_Days_Per_Week_Driven.png\n",
      "16_Vehicle_Anti_Theft_Device.png\n",
      "17_Vehicle_Passive_Restraint.png\n",
      "18_Vehicle_Age_In_Years.png\n"
     ]
    },
    {
     "name": "stderr",
     "output_type": "stream",
     "text": [
      "/usr/lib/pymodules/python2.7/matplotlib/pyplot.py:412: RuntimeWarning: More than 20 figures have been opened. Figures created through the pyplot interface (`matplotlib.pyplot.figure`) are retained until explicitly closed and may consume too much memory. (To control this warning, see the rcParam `figure.max_num_figures`).\n",
      "  max_open_warning, RuntimeWarning)\n"
     ]
    },
    {
     "name": "stdout",
     "output_type": "stream",
     "text": [
      "19_Vehicle_Med_Pay_Limit.png\n",
      "20_Vehicle_Bodily_Injury_Limit.png\n",
      "21_Vehicle_Physical_Damage_Limit.png\n",
      "22_Vehicle_Comprehensive_Coverage_Indicator.png\n",
      "23_Vehicle_Comprehensive_Coverage_Limit.png\n",
      "24_Vehicle_Collision_Coverage_Indicator.png\n",
      "25_Vehicle_Collision_Coverage_Deductible.png\n",
      "26_Driver_Total.png\n",
      "27_Driver_Total_Male.png\n",
      "28_Driver_Total_Female.png\n",
      "29_Driver_Total_Single.png\n",
      "30_Driver_Total_Married.png\n",
      "31_Driver_Total_Related_To_Insured_Self.png\n",
      "32_Driver_Total_Related_To_Insured_Spouse.png\n",
      "33_Driver_Total_Related_To_Insured_Child.png\n",
      "34_Driver_Total_Licensed_In_State.png\n",
      "35_Driver_Minimum_Age.png\n",
      "36_Driver_Maximum_Age.png\n",
      "37_Driver_Total_Teenager_Age_15_19.png\n",
      "38_Driver_Total_College_Ages_20_23.png\n",
      "39_Driver_Total_Young_Adult_Ages_24_29.png\n",
      "40_Driver_Total_Low_Middle_Adult_Ages_30_39.png\n",
      "41_Driver_Total_Middle_Adult_Ages_40_49.png\n",
      "42_Driver_Total_Adult_Ages_50_64.png\n",
      "43_Driver_Total_Senior_Ages_65_69.png\n",
      "44_Driver_Total_Upper_Senior_Ages_70_plus.png\n",
      "45_Vehicle_Youthful_Driver_Indicator.png\n",
      "46_Vehicle_Youthful_Driver_Training_Code.png\n",
      "47_Vehicle_Youthful_Good_Student_Code.png\n",
      "48_Vehicle_Driver_Points.png\n",
      "49_Vehicle_Safe_Driver_Discount_Indicator.png\n",
      "50_EEA_Liability_Coverage_Only_Indicator.png\n",
      "51_EEA_Multi_Auto_Policies_Indicator.png\n",
      "52_EEA_Policy_Zip_Code_3.png\n",
      "53_EEA_Policy_Tenure.png\n",
      "54_EEA_Agency_Type.png\n",
      "55_EEA_Packaged_Policy_Indicator.png\n",
      "56_EEA_Full_Coverage_Indicator.png\n",
      "57_EEA_Prior_Bodily_Injury_Limit.png\n",
      "58_EEA_PolicyYear.png\n",
      "59_SYS_Renewed.png\n",
      "60_SYS_New_Business.png\n",
      "61_Annual_Premium.png\n",
      "62_Claim_Count.png\n",
      "63_Loss_Amount.png\n",
      "64_Frequency.png\n",
      "65_Severity.png\n",
      "66_Loss_Ratio.png\n"
     ]
    }
   ],
   "source": [
    "col_y1 = 'Loss_Amount'#'Loss_Amount'\n",
    "col_y2 = 'Claim_Count'\n",
    "i=0\n",
    "for col in df:\n",
    "    #print col\n",
    "    if (df[col].dtype == 'object'):\n",
    "        continue\n",
    "    f1 = scatter_plot(df, col, col_y1)\n",
    "    #f2 = scatter_plot(df, col, col_y2)\n",
    "    image_name = str(i).zfill(2) + '_' + col + '.png'\n",
    "    i+=1\n",
    "    print image_name\n",
    "    f1.savefig('plots_Loss_amount' + image_name, bbox_inches = 'tight')\n",
    "    #f2.savefig('../data/featurePlots_on_Claim_Count_24Nov/' + image_name, bbox_inches = 'tight')"
   ]
  },
  {
   "cell_type": "code",
   "execution_count": null,
   "metadata": {
    "collapsed": false
   },
   "outputs": [],
   "source": []
  },
  {
   "cell_type": "markdown",
   "metadata": {
    "collapsed": false
   },
   "source": [
    "## Y1 will contains the labels based on the Claim Count value (0 if claim is 0, 1 otherwise)"
   ]
  },
  {
   "cell_type": "code",
   "execution_count": 6,
   "metadata": {
    "collapsed": false
   },
   "outputs": [
    {
     "name": "stdout",
     "output_type": "stream",
     "text": [
      "<class 'pandas.core.series.Series'>\n"
     ]
    },
    {
     "data": {
      "text/plain": [
       "0    405553\n",
       "1     18869\n",
       "Name: Claim_Count, dtype: int64"
      ]
     },
     "execution_count": 6,
     "metadata": {},
     "output_type": "execute_result"
    }
   ],
   "source": [
    "glob_list = []\n",
    "\n",
    "def make_class_based_on_claim_count_value(el):\n",
    "    if(el == 0):\n",
    "        el = 0\n",
    "    else:\n",
    "        el = 1\n",
    "    return el\n",
    "            \n",
    "col = 'Claim_Count'\n",
    "Y1 = df[col]\n",
    "print type(Y1)\n",
    "Y1 = df[col].apply(make_class_based_on_claim_count_value) #axis=0 defines that function is to be applied on each column\n",
    "#print df[col]\n",
    "Y1.value_counts()"
   ]
  },
  {
   "cell_type": "code",
   "execution_count": 15,
   "metadata": {
    "collapsed": false
   },
   "outputs": [
    {
     "data": {
      "text/plain": [
       "array(['PolicyNo', 'Policy_Company', 'Policy_Installment_Term',\n",
       "       'Policy_Billing_Code', 'Policy_Method_Of_Payment',\n",
       "       'Policy_Reinstatement_Fee_Indicator',\n",
       "       'Policy_Zip_Code_Garaging_Location', 'Vehicle_Territory',\n",
       "       'Vehicle_Make_Year', 'Vehicle_Make_Description',\n",
       "       'Vehicle_Performance', 'Vehicle_New_Cost_Amount', 'Vehicle_Symbol',\n",
       "       'Vehicle_Number_Of_Drivers_Assigned', 'Vehicle_Usage',\n",
       "       'Vehicle_Miles_To_Work', 'Vehicle_Days_Per_Week_Driven',\n",
       "       'Vehicle_Annual_Miles', 'Vehicle_Anti_Theft_Device',\n",
       "       'Vehicle_Passive_Restraint', 'Vehicle_Age_In_Years',\n",
       "       'Vehicle_Med_Pay_Limit', 'Vehicle_Bodily_Injury_Limit',\n",
       "       'Vehicle_Physical_Damage_Limit',\n",
       "       'Vehicle_Comprehensive_Coverage_Indicator',\n",
       "       'Vehicle_Comprehensive_Coverage_Limit',\n",
       "       'Vehicle_Collision_Coverage_Indicator',\n",
       "       'Vehicle_Collision_Coverage_Deductible', 'Driver_Total',\n",
       "       'Driver_Total_Male', 'Driver_Total_Female', 'Driver_Total_Single',\n",
       "       'Driver_Total_Married', 'Driver_Total_Related_To_Insured_Self',\n",
       "       'Driver_Total_Related_To_Insured_Spouse',\n",
       "       'Driver_Total_Related_To_Insured_Child',\n",
       "       'Driver_Total_Licensed_In_State', 'Driver_Minimum_Age',\n",
       "       'Driver_Maximum_Age', 'Driver_Total_Teenager_Age_15_19',\n",
       "       'Driver_Total_College_Ages_20_23',\n",
       "       'Driver_Total_Young_Adult_Ages_24_29',\n",
       "       'Driver_Total_Low_Middle_Adult_Ages_30_39',\n",
       "       'Driver_Total_Middle_Adult_Ages_40_49',\n",
       "       'Driver_Total_Adult_Ages_50_64', 'Driver_Total_Senior_Ages_65_69',\n",
       "       'Driver_Total_Upper_Senior_Ages_70_plus',\n",
       "       'Vehicle_Youthful_Driver_Indicator',\n",
       "       'Vehicle_Youthful_Driver_Training_Code',\n",
       "       'Vehicle_Youthful_Good_Student_Code', 'Vehicle_Driver_Points',\n",
       "       'Vehicle_Safe_Driver_Discount_Indicator',\n",
       "       'EEA_Liability_Coverage_Only_Indicator',\n",
       "       'EEA_Multi_Auto_Policies_Indicator', 'EEA_Policy_Zip_Code_3',\n",
       "       'EEA_Policy_Tenure', 'EEA_Agency_Type',\n",
       "       'EEA_Packaged_Policy_Indicator', 'EEA_Full_Coverage_Indicator',\n",
       "       'EEA_Prior_Bodily_Injury_Limit', 'EEA_PolicyYear', 'SYS_Renewed',\n",
       "       'SYS_New_Business', 'Annual_Premium', 'Claim_Count', 'Loss_Amount',\n",
       "       'Frequency', 'Severity', 'Loss_Ratio'], dtype=object)"
      ]
     },
     "execution_count": 15,
     "metadata": {},
     "output_type": "execute_result"
    }
   ],
   "source": [
    "feature = 'Vehicle_Symbol'\n",
    "title_text = 'Clustering based on claim count'\n",
    "X = df.columns.values\n",
    "X"
   ]
  },
  {
   "cell_type": "markdown",
   "metadata": {},
   "source": [
    "## Plotting by clusters"
   ]
  },
  {
   "cell_type": "code",
   "execution_count": 16,
   "metadata": {
    "collapsed": false
   },
   "outputs": [],
   "source": [
    "import matplotlib.pyplot as plt\n",
    "\n",
    "from sklearn.datasets import make_classification\n",
    "from sklearn.datasets import make_blobs\n",
    "from sklearn.datasets import make_gaussian_quantiles\n",
    "\n",
    "f = plt.figure()\n",
    "ax = f.add_subplot(1, 1, 1)\n",
    "ax.scatter(df['Vehicle_Driver_Points'], df['Annual_Premium'], c = list(Y1))\n",
    "plt.title(title_text, fontsize='small')\n",
    "plt.xlabel('Vehicle_Driver_Points')\n",
    "plt.ylabel('Annual_Premium')\n",
    "plt.show()"
   ]
  },
  {
   "cell_type": "code",
   "execution_count": null,
   "metadata": {
    "collapsed": true
   },
   "outputs": [],
   "source": []
  }
 ],
 "metadata": {
  "kernelspec": {
   "display_name": "Python 2",
   "language": "python",
   "name": "python2"
  },
  "language_info": {
   "codemirror_mode": {
    "name": "ipython",
    "version": 2
   },
   "file_extension": ".py",
   "mimetype": "text/x-python",
   "name": "python",
   "nbconvert_exporter": "python",
   "pygments_lexer": "ipython2",
   "version": "2.7.6"
  }
 },
 "nbformat": 4,
 "nbformat_minor": 1
}
